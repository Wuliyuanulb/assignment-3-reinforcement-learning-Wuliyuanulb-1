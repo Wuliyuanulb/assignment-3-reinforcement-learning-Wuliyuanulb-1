{
 "cells": [
  {
   "cell_type": "code",
   "execution_count": 54,
   "metadata": {},
   "outputs": [],
   "source": [
    "from numpy import random\n",
    "import numpy as np\n",
    "import matplotlib.pyplot as plt\n",
    "import copy\n",
    "import math"
   ]
  },
  {
   "cell_type": "code",
   "execution_count": 55,
   "metadata": {},
   "outputs": [],
   "source": [
    "\"\"\"Game defination: agents a ring of all agents, Agents_actions stores the action of each agent, actions is list of actions\"\"\"\n",
    "def game(agents, Agents_actions, alpha, actions):\n",
    "\n",
    "    cov_num=0\n",
    "    cov_time=0\n",
    "    while cov_num<11:\n",
    "        cov_time += 1\n",
    "        player1 = random.choice(agents) #choose one agent randomly\n",
    "        r = random.choice([0,1]) #choose one player1's neighbors randomly\n",
    "        if r==1: \n",
    "            if player1==25:\n",
    "                player2=0\n",
    "            else:\n",
    "                player2 = player1+1\n",
    "        if r==0:\n",
    "            if player1==0:player2=25\n",
    "            else:player2=player1-1\n",
    "\n",
    "        if Agents_actions[player1] != Agents_actions[player2]:\n",
    "            r = random.random()\n",
    "            if r<alpha: #player1, pick diff action at random\n",
    "                else_acrions = np.delete(actions, Agents_actions[player1]) # other actions, (apart from player1's action)\n",
    "                Agents_actions[player1] = random.choice(else_acrions)\n",
    "                \n",
    "            r = random.random()\n",
    "            if r<alpha: #player1, pick diff action at random\n",
    "                else_acrions = np.delete(actions, Agents_actions[player2]) # other actions, (apart from player2's action)\n",
    "                Agents_actions[player2] = random.choice(else_acrions) \n",
    "                \n",
    "        unique_actions = np.unique(Agents_actions)\n",
    "        if len(unique_actions) == 1:\n",
    "            cov_num += 1\n",
    "        else:\n",
    "            cov_num = 0\n",
    "            \n",
    "    return Agents_actions, cov_time"
   ]
  },
  {
   "cell_type": "code",
   "execution_count": 56,
   "metadata": {},
   "outputs": [
    {
     "name": "stdout",
     "output_type": "stream",
     "text": [
      "4377\n"
     ]
    }
   ],
   "source": [
    "\"\"\"Experiment\"\"\"\n",
    "agents = np.arange(26)\n",
    "#actions list\n",
    "actions = [0, 1]\n",
    "#initial Agents_actions randomly\n",
    "Agents_actions = np.zeros(26, dtype = int)\n",
    "for i in range(26):\n",
    "    Agents_actions[i] = random.choice(actions)\n",
    "\n",
    "alpha_list = [0.01, 0.1, 0.2, 0.3, 0.4, 0.5, 0.6, 0.7, 0.8, 0.9, 0.99]\n",
    "\n",
    "res = game(agents, Agents_actions, alpha_list[3], actions)\n",
    "\n",
    "print(res[1])"
   ]
  },
  {
   "cell_type": "code",
   "execution_count": 88,
   "metadata": {},
   "outputs": [],
   "source": [
    "\"\"\"Experiment function\"\"\"\n",
    "def experiment(actions, trial_times):\n",
    "    agents = np.arange(26)\n",
    "    #initial Agents_actions randomly\n",
    "    Agents_actions = np.zeros(26, dtype = int)\n",
    "\n",
    "    alpha_list = [0.1, 0.2, 0.3, 0.4, 0.5, 0.6, 0.7, 0.8, 0.9]\n",
    "    cov_time_data = [[],[],[],[],[],[],[],[],[]] # store coverge time of each alpha, each trail\n",
    "    cov_time_mean = [[],[],[],[],[],[],[],[],[]] # store average coverge time of each alpha, each trail\n",
    "    cov_time_deviation = [[],[],[],[],[],[],[],[],[]] # store deviation coverge time of each alpha, each trail\n",
    "\n",
    "    for i in range(9):\n",
    "#         print(i)\n",
    "        alpha = alpha_list[i]\n",
    "        trial=0\n",
    "        while trial<trial_times:\n",
    "            for ite_action in range(26):\n",
    "                Agents_actions[ite_action] = random.choice(actions)\n",
    "            res = game(agents, Agents_actions, alpha, actions)\n",
    "#             print(res[1])\n",
    "            cov_time_data[i].append(res[1])\n",
    "            trial+=1\n",
    "\n",
    "    for i in range(9):\n",
    "        cov_time_mean[i] = np.mean(cov_time_data[i])\n",
    "        cov_time_deviation[i] = np.std(cov_time_data[i])\n",
    "\n",
    "    print(cov_time_mean)\n",
    "    print(cov_time_deviation)\n",
    "    \n",
    "    return cov_time_mean, cov_time_deviation"
   ]
  },
  {
   "cell_type": "code",
   "execution_count": 118,
   "metadata": {
    "scrolled": true
   },
   "outputs": [
    {
     "name": "stdout",
     "output_type": "stream",
     "text": [
      "[9026.53, 4718.18, 3176.21, 2568.43, 2176.26, 2034.09, 1968.685, 2072.235, 3074.27]\n",
      "[8430.801321885127, 4383.914225620752, 2882.3117485622543, 2386.2767494781488, 2162.090967651454, 2181.872389004453, 1656.946506612389, 1764.8595807528145, 2378.7924409456155]\n"
     ]
    }
   ],
   "source": [
    "\"\"\"Experiment 2 actions\"\"\"\n",
    "res_2actions = experiment([0,1], 200)"
   ]
  },
  {
   "cell_type": "code",
   "execution_count": 93,
   "metadata": {},
   "outputs": [
    {
     "name": "stdout",
     "output_type": "stream",
     "text": [
      "[57972.43, 36002.63, 30667.645, 33131.08, 43033.67, 67851.83, 133643.74, 380694.675, 2056382.42]\n",
      "[57159.06136585082, 34014.12379619825, 31259.676796777265, 33167.24916606139, 40862.61349242239, 71112.6938942767, 125338.24223445293, 374124.9692171179, 1786419.6210905863]\n"
     ]
    }
   ],
   "source": [
    "\"\"\"Experiment 3 actions\"\"\"\n",
    "res_3actions = experiment([0,1,2], 200)"
   ]
  },
  {
   "cell_type": "code",
   "execution_count": null,
   "metadata": {},
   "outputs": [],
   "source": []
  },
  {
   "cell_type": "code",
   "execution_count": null,
   "metadata": {},
   "outputs": [],
   "source": [
    "#************************************************"
   ]
  },
  {
   "cell_type": "code",
   "execution_count": 125,
   "metadata": {},
   "outputs": [
    {
     "data": {
      "image/png": "[encoded data removed]",
      "text/plain": [
       "<Figure size 720x576 with 1 Axes>"
      ]
     },
     "metadata": {
      "needs_background": "light"
     },
     "output_type": "display_data"
    }
   ],
   "source": [
    "\"\"\"plot 2 actions\"\"\"\n",
    "plt.figure(figsize=(10,8))\n",
    "\n",
    "x_axis_2 = [0.1, 0.2, 0.3, 0.4, 0.5, 0.6, 0.7, 0.8, 0.9]\n",
    "y_axis_2 = res_2actions[0]\n",
    "error_bar_2 = res_2actions[1]\n",
    "\n",
    "plt.plot( x_axis_2, y_axis_2, color='royalblue', label = '2 Actions average converge time' )\n",
    "plt.plot(x_axis_2, y_axis_2, 'o', color='royalblue') \n",
    "plt.errorbar(x_axis_2, y_axis_2, error_bar_2, capsize=4, label='2 Actions Standard deviation')\n",
    "\n",
    "x_axis_3 = [0.1, 0.2, 0.3, 0.4, 0.5, 0.6, 0.7, 0.8, 0.9]\n",
    "y_axis_3 = res_3actions[0]\n",
    "error_bar_3 = res_3actions[1]\n",
    "\n",
    "plt.plot( x_axis_3, y_axis_3, color='orange', label = '3 Actions average converge time' )\n",
    "plt.plot(x_axis_3, y_axis_3, 'o', color='orange') \n",
    "plt.errorbar(x_axis_3, y_axis_3, error_bar_3, capsize=4, color='orange', label='3 Actions Standard deviation')\n",
    "\n",
    "plt.title('2 Actions and 3 Actions Converge time over alpha', fontsize=20)\n",
    "plt.grid()\n",
    "plt.xlabel('alpha', fontsize=20) \n",
    "plt.ylabel('Converge time (log scale)', fontsize=20) \n",
    "plt.xticks(fontsize=20)\n",
    "plt.yticks(fontsize=20)\n",
    "plt.legend(fontsize=16)\n",
    "plt.yscale('log')\n",
    "plt.show()"
   ]
  },
  {
   "cell_type": "code",
   "execution_count": null,
   "metadata": {},
   "outputs": [],
   "source": []
  },
  {
   "cell_type": "code",
   "execution_count": null,
   "metadata": {},
   "outputs": [],
   "source": []
  },
  {
   "cell_type": "code",
   "execution_count": null,
   "metadata": {},
   "outputs": [],
   "source": []
  },
  {
   "cell_type": "code",
   "execution_count": null,
   "metadata": {},
   "outputs": [],
   "source": []
  },
  {
   "cell_type": "code",
   "execution_count": null,
   "metadata": {},
   "outputs": [],
   "source": []
  },
  {
   "cell_type": "code",
   "execution_count": null,
   "metadata": {},
   "outputs": [],
   "source": []
  },
  {
   "cell_type": "code",
   "execution_count": null,
   "metadata": {},
   "outputs": [],
   "source": []
  },
  {
   "cell_type": "code",
   "execution_count": null,
   "metadata": {},
   "outputs": [],
   "source": []
  },
  {
   "cell_type": "code",
   "execution_count": null,
   "metadata": {},
   "outputs": [],
   "source": []
  },
  {
   "cell_type": "code",
   "execution_count": null,
   "metadata": {},
   "outputs": [],
   "source": []
  },
  {
   "cell_type": "code",
   "execution_count": null,
   "metadata": {},
   "outputs": [],
   "source": []
  },
  {
   "cell_type": "code",
   "execution_count": null,
   "metadata": {},
   "outputs": [],
   "source": []
  },
  {
   "cell_type": "code",
   "execution_count": null,
   "metadata": {},
   "outputs": [],
   "source": []
  },
  {
   "cell_type": "code",
   "execution_count": null,
   "metadata": {},
   "outputs": [],
   "source": []
  },
  {
   "cell_type": "code",
   "execution_count": null,
   "metadata": {},
   "outputs": [],
   "source": []
  },
  {
   "cell_type": "code",
   "execution_count": null,
   "metadata": {},
   "outputs": [],
   "source": []
  },
  {
   "cell_type": "code",
   "execution_count": null,
   "metadata": {},
   "outputs": [],
   "source": []
  },
  {
   "cell_type": "code",
   "execution_count": null,
   "metadata": {},
   "outputs": [],
   "source": []
  },
  {
   "cell_type": "code",
   "execution_count": null,
   "metadata": {},
   "outputs": [],
   "source": []
  },
  {
   "cell_type": "code",
   "execution_count": null,
   "metadata": {},
   "outputs": [],
   "source": []
  },
  {
   "cell_type": "code",
   "execution_count": null,
   "metadata": {},
   "outputs": [],
   "source": []
  }
 ],
 "metadata": {
  "kernelspec": {
   "display_name": "Python 3",
   "language": "python",
   "name": "python3"
  },
  "language_info": {
   "codemirror_mode": {
    "name": "ipython",
    "version": 3
   },
   "file_extension": ".py",
   "mimetype": "text/x-python",
   "name": "python",
   "nbconvert_exporter": "python",
   "pygments_lexer": "ipython3",
   "version": "3.7.0"
  }
 },
 "nbformat": 4,
 "nbformat_minor": 2
}
